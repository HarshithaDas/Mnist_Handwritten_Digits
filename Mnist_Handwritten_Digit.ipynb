{
  "nbformat": 4,
  "nbformat_minor": 0,
  "metadata": {
    "colab": {
      "name": "Mnist Handwritten Digit.ipynb",
      "provenance": [],
      "authorship_tag": "ABX9TyPkbKZVIFGENLwOjfQshKb+",
      "include_colab_link": true
    },
    "kernelspec": {
      "display_name": "Python 3",
      "name": "python3"
    }
  },
  "cells": [
    {
      "cell_type": "markdown",
      "metadata": {
        "id": "view-in-github",
        "colab_type": "text"
      },
      "source": [
        "<a href=\"https://colab.research.google.com/github/HarshithaDas/Mnist_Handwritten_Digits/blob/main/Mnist_Handwritten_Digit.ipynb\" target=\"_parent\"><img src=\"https://colab.research.google.com/assets/colab-badge.svg\" alt=\"Open In Colab\"/></a>"
      ]
    },
    {
      "cell_type": "code",
      "metadata": {
        "colab": {
          "background_save": true,
          "base_uri": "https://localhost:8080/"
        },
        "id": "VkR7xuzzL90k",
        "outputId": "040c660a-69b6-4678-8381-74983b6bbccf"
      },
      "source": [
        "import tensorflow as tf \n",
        "tf.test.gpu_device_name()\n",
        "#####Loading the dataset##### \n",
        "from keras.datasets import mnist \n",
        "import keras \n",
        "import matplotlib.pyplot as plt \n",
        "(X_train, y_train), (X_test, y_test) = mnist.load_data() \n",
        "print(X_train.shape) \n",
        "X1_test=X_test\n",
        "#####Pre-processing##### \n",
        "X_train = X_train.reshape(60000,28,28,1) \n",
        "X_test = X_test.reshape(10000,28,28,1) \n",
        "y_train = keras.utils.to_categorical(y_train, dtype =\"uint8\") \n",
        "y_test = keras.utils.to_categorical(y_test, dtype =\"uint8\") \n",
        "#print(y_train.shape) \n",
        "#print(y_test.shape) \n",
        "#####Building the model##### \n",
        "from keras.models import Sequential \n",
        "from keras.layers import Dense, Conv2D, MaxPooling2D, Flatten \n",
        "model = Sequential() \n",
        "model.add(Conv2D(24, kernel_size=5, activation='relu', input_shape=(28,28,1))) \n",
        "model.add(MaxPooling2D(pool_size=(2, 2), strides=(2, 2))) \n",
        "model.add(Conv2D(12, kernel_size=5, activation='relu')) \n",
        "model.add(MaxPooling2D(pool_size=(2, 2))) \n",
        "model.add(Flatten()) \n",
        "model.add(Dense(10, activation='softmax'))\n",
        "model.summary()\n",
        " \n",
        "from keras.utils.vis_utils import plot_model \n",
        "plot_model(model, to_file='model_plot.png', show_shapes=True, show_layer_names=True)\n",
        " \n",
        " \n",
        "#####Compiling the model##### \n",
        "model.compile(optimizer='adam', loss='categorical_crossentropy', metrics=['accuracy'])\n",
        "#####Training the model##### \n",
        "model.fit(X_train, y_train,validation_data=(X_test, y_test),epochs=3)\n",
        "#####Making predictions##### \n",
        "model.predict(X_test[:4])\n",
        "y_test[:4]\n",
        "#####Verification##### \n",
        "plt.figure(figsize=(10,10)) \n",
        "for i in range(4): \n",
        "  plt.subplot(1,4,i+1) \n",
        "  plt.xticks([]) \n",
        "  plt.yticks([]) \n",
        "  plt.grid(False) \n",
        "  plt.imshow(X1_test[i], cmap=plt.cm.binary) \n",
        " \n",
        "plt.show()"
      ],
      "execution_count": null,
      "outputs": [
        {
          "output_type": "stream",
          "text": [
            "Downloading data from https://storage.googleapis.com/tensorflow/tf-keras-datasets/mnist.npz\n",
            "11493376/11490434 [==============================] - 0s 0us/step\n",
            "(60000, 28, 28)\n",
            "Model: \"sequential\"\n",
            "_________________________________________________________________\n",
            "Layer (type)                 Output Shape              Param #   \n",
            "=================================================================\n",
            "conv2d (Conv2D)              (None, 24, 24, 24)        624       \n",
            "_________________________________________________________________\n",
            "max_pooling2d (MaxPooling2D) (None, 12, 12, 24)        0         \n",
            "_________________________________________________________________\n",
            "conv2d_1 (Conv2D)            (None, 8, 8, 12)          7212      \n",
            "_________________________________________________________________\n",
            "max_pooling2d_1 (MaxPooling2 (None, 4, 4, 12)          0         \n",
            "_________________________________________________________________\n",
            "flatten (Flatten)            (None, 192)               0         \n",
            "_________________________________________________________________\n",
            "dense (Dense)                (None, 10)                1930      \n",
            "=================================================================\n",
            "Total params: 9,766\n",
            "Trainable params: 9,766\n",
            "Non-trainable params: 0\n",
            "_________________________________________________________________\n",
            "Epoch 1/3\n",
            "1875/1875 [==============================] - 40s 21ms/step - loss: 2.2207 - accuracy: 0.6469 - val_loss: 0.1266 - val_accuracy: 0.9616\n",
            "Epoch 2/3\n",
            "1875/1875 [==============================] - 39s 21ms/step - loss: 0.1245 - accuracy: 0.9633 - val_loss: 0.0884 - val_accuracy: 0.9718\n",
            "Epoch 3/3\n",
            "1875/1875 [==============================] - 38s 21ms/step - loss: 0.0901 - accuracy: 0.9728 - val_loss: 0.0792 - val_accuracy: 0.9756\n"
          ],
          "name": "stdout"
        },
        {
          "output_type": "display_data",
          "data": {
            "image/png": "[encoded data removed]",
            "text/plain": [
              "<Figure size 720x720 with 4 Axes>"
            ]
          },
          "metadata": {
            "tags": []
          }
        }
      ]
    }
  ]
}